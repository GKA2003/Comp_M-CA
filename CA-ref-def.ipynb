{
 "cells": [
  {
   "cell_type": "markdown",
   "metadata": {},
   "source": [
    "# ECM1416 Computational Mathematics: CA (reassessment)\n",
    "\n",
    "| Date set     | Hand-in date |\n",
    "|:------------------|:-----------------------------------|\n",
    "|3rd July 2023  | ** 31st July 2023** |\n",
    "\n",
    "\n",
    "Submit an electronic copy of your report to the E-Bart by the deadline.\n",
    "\n",
    "This CA is <b>summative</b> (20% of the final module mark).\n"
   ]
  },
  {
   "cell_type": "markdown",
   "metadata": {},
   "source": [
    "\n",
    "Your report should consist of your IPython notebook showing what you did, what were the\n",
    "results, and what you can conclude from the exercise. Each report will be\n",
    "assessed on the following criteria:\n",
    "\n",
    "* The readability and implementation of the source code for generating your results. (40%)\n",
    "* The correctness and reproducibility of your results. (40%)\n",
    "* The explanation of your results (what you can conclude and how does the work relate to the theoretical foundations?) (20%)\n"
   ]
  },
  {
   "cell_type": "code",
   "execution_count": 2,
   "metadata": {
    "collapsed": true
   },
   "outputs": [],
   "source": [
    "# import the numpy package in the np namespace\n",
    "import numpy  as np\n",
    "\n",
    "# this line will load the plotting function into the namespace plt.\n",
    "import matplotlib.pyplot as plt\n",
    "\n",
    "# the following lines prevent Python from opening new windows for figures. \n",
    "%matplotlib inline"
   ]
  },
  {
   "cell_type": "markdown",
   "metadata": {},
   "source": [
    "## Q1: Implement Gaussian Elimination \n",
    "Implement Gaussian Elimination as presented in the lectures. \n",
    "It is recommended to implement separate functions for generating the reduced row echelon form, and for solving it. \n",
    "\n",
    "(10 Marks) "
   ]
  },
  {
   "cell_type": "markdown",
   "metadata": {},
   "source": [
    "## Q2: Markov Chains\n"
   ]
  },
  {
   "cell_type": "markdown",
   "metadata": {},
   "source": [
    "Consider the two Markov chains in the Example(2) and Example(3) of the lecture slides for Markov Chains Part1 (slide 7 and slide 8). For the Example(3), set $\\alpha = 0.3$, $\\beta = 0.4$ and $N = 30$. Work out the following problems for each of these two Markov chains. \n",
    "\n",
    "2a) Write a program to run 100 trials where each trial records the state of the markov chain after 100 moves and each trial has a random initial state. This program should draw a figure showing the percentage of trials against various states.\n",
    "\n",
    "2b) Whether the Markov chain has a steady-state distribution? Explain your answer. Work out the steady-state distribution analytically if it exists. Draw a figure showing the steady-state probabilities against various states.\n",
    "\n",
    "2c) If the steady-state distribution exists, compare the figures obtained in 2b) and 2a), observe any difference and explain the reason. Increase and decrease the number of trials (e.g., 200 and 50) in 2a), compare the figures obtained in 2b) and 2a) again, observe the change of difference and explain your observation.\n",
    "\n",
    "(10 Marks)"
   ]
  }
 ],
 "metadata": {
  "kernelspec": {
   "display_name": "Python 3 (ipykernel)",
   "language": "python",
   "name": "python3"
  },
  "language_info": {
   "codemirror_mode": {
    "name": "ipython",
    "version": 3
   },
   "file_extension": ".py",
   "mimetype": "text/x-python",
   "name": "python",
   "nbconvert_exporter": "python",
   "pygments_lexer": "ipython3",
   "version": "3.10.6"
  }
 },
 "nbformat": 4,
 "nbformat_minor": 1
}
